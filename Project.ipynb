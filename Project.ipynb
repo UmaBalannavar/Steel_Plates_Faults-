{
 "cells": [
  {
   "cell_type": "code",
   "execution_count": 1,
   "id": "c01763d1",
   "metadata": {},
   "outputs": [],
   "source": [
    "import pandas as pd\n",
    "from sklearn.ensemble import RandomForestClassifier\n",
    "from sklearn.multioutput import MultiOutputClassifier\n",
    "from sklearn.model_selection import train_test_split\n",
    "from sklearn.metrics import classification_report\n",
    "import pickle\n",
    "\n"
   ]
  },
  {
   "cell_type": "code",
   "execution_count": 3,
   "id": "ef978a76",
   "metadata": {},
   "outputs": [],
   "source": [
    "train_df = pd.read_csv(\"C:\\\\Users\\\\DELL\\\\Downloads\\\\kleit-ml-course-project-2025\\\\train.csv\")\n"
   ]
  },
  {
   "cell_type": "code",
   "execution_count": 4,
   "id": "4b014ed5",
   "metadata": {},
   "outputs": [],
   "source": [
    "X = train_df.drop(columns=['Pastry', 'Z_Scratch', 'K_Scatch', 'Stains', 'Dirtiness', 'Bumps', 'Other_Faults'])\n",
    "y = train_df[['Pastry', 'Z_Scratch', 'K_Scatch', 'Stains', 'Dirtiness', 'Bumps', 'Other_Faults']]\n"
   ]
  },
  {
   "cell_type": "code",
   "execution_count": 5,
   "id": "a16a0c23",
   "metadata": {},
   "outputs": [],
   "source": [
    "X_train, X_val, y_train, y_val = train_test_split(X, y, test_size=0.2, random_state=42)\n",
    "\n"
   ]
  },
  {
   "cell_type": "code",
   "execution_count": 6,
   "id": "995fb7a2",
   "metadata": {},
   "outputs": [
    {
     "data": {
      "text/html": [
       "<style>#sk-container-id-1 {color: black;background-color: white;}#sk-container-id-1 pre{padding: 0;}#sk-container-id-1 div.sk-toggleable {background-color: white;}#sk-container-id-1 label.sk-toggleable__label {cursor: pointer;display: block;width: 100%;margin-bottom: 0;padding: 0.3em;box-sizing: border-box;text-align: center;}#sk-container-id-1 label.sk-toggleable__label-arrow:before {content: \"▸\";float: left;margin-right: 0.25em;color: #696969;}#sk-container-id-1 label.sk-toggleable__label-arrow:hover:before {color: black;}#sk-container-id-1 div.sk-estimator:hover label.sk-toggleable__label-arrow:before {color: black;}#sk-container-id-1 div.sk-toggleable__content {max-height: 0;max-width: 0;overflow: hidden;text-align: left;background-color: #f0f8ff;}#sk-container-id-1 div.sk-toggleable__content pre {margin: 0.2em;color: black;border-radius: 0.25em;background-color: #f0f8ff;}#sk-container-id-1 input.sk-toggleable__control:checked~div.sk-toggleable__content {max-height: 200px;max-width: 100%;overflow: auto;}#sk-container-id-1 input.sk-toggleable__control:checked~label.sk-toggleable__label-arrow:before {content: \"▾\";}#sk-container-id-1 div.sk-estimator input.sk-toggleable__control:checked~label.sk-toggleable__label {background-color: #d4ebff;}#sk-container-id-1 div.sk-label input.sk-toggleable__control:checked~label.sk-toggleable__label {background-color: #d4ebff;}#sk-container-id-1 input.sk-hidden--visually {border: 0;clip: rect(1px 1px 1px 1px);clip: rect(1px, 1px, 1px, 1px);height: 1px;margin: -1px;overflow: hidden;padding: 0;position: absolute;width: 1px;}#sk-container-id-1 div.sk-estimator {font-family: monospace;background-color: #f0f8ff;border: 1px dotted black;border-radius: 0.25em;box-sizing: border-box;margin-bottom: 0.5em;}#sk-container-id-1 div.sk-estimator:hover {background-color: #d4ebff;}#sk-container-id-1 div.sk-parallel-item::after {content: \"\";width: 100%;border-bottom: 1px solid gray;flex-grow: 1;}#sk-container-id-1 div.sk-label:hover label.sk-toggleable__label {background-color: #d4ebff;}#sk-container-id-1 div.sk-serial::before {content: \"\";position: absolute;border-left: 1px solid gray;box-sizing: border-box;top: 0;bottom: 0;left: 50%;z-index: 0;}#sk-container-id-1 div.sk-serial {display: flex;flex-direction: column;align-items: center;background-color: white;padding-right: 0.2em;padding-left: 0.2em;position: relative;}#sk-container-id-1 div.sk-item {position: relative;z-index: 1;}#sk-container-id-1 div.sk-parallel {display: flex;align-items: stretch;justify-content: center;background-color: white;position: relative;}#sk-container-id-1 div.sk-item::before, #sk-container-id-1 div.sk-parallel-item::before {content: \"\";position: absolute;border-left: 1px solid gray;box-sizing: border-box;top: 0;bottom: 0;left: 50%;z-index: -1;}#sk-container-id-1 div.sk-parallel-item {display: flex;flex-direction: column;z-index: 1;position: relative;background-color: white;}#sk-container-id-1 div.sk-parallel-item:first-child::after {align-self: flex-end;width: 50%;}#sk-container-id-1 div.sk-parallel-item:last-child::after {align-self: flex-start;width: 50%;}#sk-container-id-1 div.sk-parallel-item:only-child::after {width: 0;}#sk-container-id-1 div.sk-dashed-wrapped {border: 1px dashed gray;margin: 0 0.4em 0.5em 0.4em;box-sizing: border-box;padding-bottom: 0.4em;background-color: white;}#sk-container-id-1 div.sk-label label {font-family: monospace;font-weight: bold;display: inline-block;line-height: 1.2em;}#sk-container-id-1 div.sk-label-container {text-align: center;}#sk-container-id-1 div.sk-container {/* jupyter's `normalize.less` sets `[hidden] { display: none; }` but bootstrap.min.css set `[hidden] { display: none !important; }` so we also need the `!important` here to be able to override the default hidden behavior on the sphinx rendered scikit-learn.org. See: https://github.com/scikit-learn/scikit-learn/issues/21755 */display: inline-block !important;position: relative;}#sk-container-id-1 div.sk-text-repr-fallback {display: none;}</style><div id=\"sk-container-id-1\" class=\"sk-top-container\"><div class=\"sk-text-repr-fallback\"><pre>MultiOutputClassifier(estimator=RandomForestClassifier(random_state=42))</pre><b>In a Jupyter environment, please rerun this cell to show the HTML representation or trust the notebook. <br />On GitHub, the HTML representation is unable to render, please try loading this page with nbviewer.org.</b></div><div class=\"sk-container\" hidden><div class=\"sk-item sk-dashed-wrapped\"><div class=\"sk-label-container\"><div class=\"sk-label sk-toggleable\"><input class=\"sk-toggleable__control sk-hidden--visually\" id=\"sk-estimator-id-1\" type=\"checkbox\" ><label for=\"sk-estimator-id-1\" class=\"sk-toggleable__label sk-toggleable__label-arrow\">MultiOutputClassifier</label><div class=\"sk-toggleable__content\"><pre>MultiOutputClassifier(estimator=RandomForestClassifier(random_state=42))</pre></div></div></div><div class=\"sk-parallel\"><div class=\"sk-parallel-item\"><div class=\"sk-item\"><div class=\"sk-label-container\"><div class=\"sk-label sk-toggleable\"><input class=\"sk-toggleable__control sk-hidden--visually\" id=\"sk-estimator-id-2\" type=\"checkbox\" ><label for=\"sk-estimator-id-2\" class=\"sk-toggleable__label sk-toggleable__label-arrow\">estimator: RandomForestClassifier</label><div class=\"sk-toggleable__content\"><pre>RandomForestClassifier(random_state=42)</pre></div></div></div><div class=\"sk-serial\"><div class=\"sk-item\"><div class=\"sk-estimator sk-toggleable\"><input class=\"sk-toggleable__control sk-hidden--visually\" id=\"sk-estimator-id-3\" type=\"checkbox\" ><label for=\"sk-estimator-id-3\" class=\"sk-toggleable__label sk-toggleable__label-arrow\">RandomForestClassifier</label><div class=\"sk-toggleable__content\"><pre>RandomForestClassifier(random_state=42)</pre></div></div></div></div></div></div></div></div></div></div>"
      ],
      "text/plain": [
       "MultiOutputClassifier(estimator=RandomForestClassifier(random_state=42))"
      ]
     },
     "execution_count": 6,
     "metadata": {},
     "output_type": "execute_result"
    }
   ],
   "source": [
    "rf = RandomForestClassifier(n_estimators=100, random_state=42)\n",
    "model = MultiOutputClassifier(rf)\n",
    "model.fit(X_train, y_train)\n",
    "\n"
   ]
  },
  {
   "cell_type": "code",
   "execution_count": 7,
   "id": "0742264b",
   "metadata": {},
   "outputs": [
    {
     "name": "stdout",
     "output_type": "stream",
     "text": [
      "--- Pastry ---\n",
      "              precision    recall  f1-score   support\n",
      "\n",
      "           0       0.92      1.00      0.96      3543\n",
      "           1       0.52      0.04      0.07       301\n",
      "\n",
      "    accuracy                           0.92      3844\n",
      "   macro avg       0.72      0.52      0.52      3844\n",
      "weighted avg       0.89      0.92      0.89      3844\n",
      "\n",
      "--- Z_Scratch ---\n",
      "              precision    recall  f1-score   support\n",
      "\n",
      "           0       0.96      0.99      0.98      3624\n",
      "           1       0.65      0.37      0.47       220\n",
      "\n",
      "    accuracy                           0.95      3844\n",
      "   macro avg       0.81      0.68      0.72      3844\n",
      "weighted avg       0.94      0.95      0.95      3844\n",
      "\n",
      "--- K_Scatch ---\n",
      "              precision    recall  f1-score   support\n",
      "\n",
      "           0       0.98      0.98      0.98      3162\n",
      "           1       0.91      0.90      0.90       682\n",
      "\n",
      "    accuracy                           0.97      3844\n",
      "   macro avg       0.94      0.94      0.94      3844\n",
      "weighted avg       0.97      0.97      0.97      3844\n",
      "\n",
      "--- Stains ---\n",
      "              precision    recall  f1-score   support\n",
      "\n",
      "           0       0.99      0.99      0.99      3744\n",
      "           1       0.62      0.66      0.64       100\n",
      "\n",
      "    accuracy                           0.98      3844\n",
      "   macro avg       0.80      0.82      0.81      3844\n",
      "weighted avg       0.98      0.98      0.98      3844\n",
      "\n",
      "--- Dirtiness ---\n",
      "              precision    recall  f1-score   support\n",
      "\n",
      "           0       0.98      1.00      0.99      3759\n",
      "           1       0.60      0.07      0.13        85\n",
      "\n",
      "    accuracy                           0.98      3844\n",
      "   macro avg       0.79      0.53      0.56      3844\n",
      "weighted avg       0.97      0.98      0.97      3844\n",
      "\n",
      "--- Bumps ---\n",
      "              precision    recall  f1-score   support\n",
      "\n",
      "           0       0.80      0.94      0.86      2918\n",
      "           1       0.57      0.25      0.34       926\n",
      "\n",
      "    accuracy                           0.77      3844\n",
      "   macro avg       0.68      0.59      0.60      3844\n",
      "weighted avg       0.74      0.77      0.74      3844\n",
      "\n",
      "--- Other_Faults ---\n",
      "              precision    recall  f1-score   support\n",
      "\n",
      "           0       0.69      0.89      0.77      2495\n",
      "           1       0.55      0.24      0.34      1349\n",
      "\n",
      "    accuracy                           0.66      3844\n",
      "   macro avg       0.62      0.57      0.56      3844\n",
      "weighted avg       0.64      0.66      0.62      3844\n",
      "\n"
     ]
    }
   ],
   "source": [
    "y_pred = model.predict(X_val)\n",
    "for i, col in enumerate(y.columns):\n",
    "    print(f\"--- {col} ---\")\n",
    "    print(classification_report(y_val[col], y_pred[:, i]))\n",
    "\n"
   ]
  },
  {
   "cell_type": "code",
   "execution_count": 8,
   "id": "d276ac07",
   "metadata": {},
   "outputs": [
    {
     "name": "stdout",
     "output_type": "stream",
     "text": [
      "Model saved as 'multi_output_rf_model.pkl'\n"
     ]
    }
   ],
   "source": [
    "with open('multi_output_rf_model.pkl', 'wb') as file:\n",
    "    pickle.dump(model, file)\n",
    "    print(\"Model saved as 'multi_output_rf_model.pkl'\")"
   ]
  },
  {
   "cell_type": "markdown",
   "id": "55342d1a",
   "metadata": {},
   "source": [
    "Model training done,generation of submission csv"
   ]
  },
  {
   "cell_type": "code",
   "execution_count": 9,
   "id": "83215f66",
   "metadata": {},
   "outputs": [],
   "source": [
    "from sklearn.multioutput import MultiOutputClassifier\n",
    "\n"
   ]
  },
  {
   "cell_type": "code",
   "execution_count": 10,
   "id": "7229bf96",
   "metadata": {},
   "outputs": [],
   "source": [
    "with open('multi_output_rf_model.pkl', 'rb') as file:\n",
    "    model = pickle.load(file)\n"
   ]
  },
  {
   "cell_type": "code",
   "execution_count": 11,
   "id": "a2fef36a",
   "metadata": {},
   "outputs": [],
   "source": [
    "test_df = pd.read_csv(\"C:\\\\Users\\\\DELL\\\\Downloads\\\\kleit-ml-course-project-2025\\\\test.csv\")\n"
   ]
  },
  {
   "cell_type": "code",
   "execution_count": 12,
   "id": "5235c3d7",
   "metadata": {},
   "outputs": [
    {
     "name": "stdout",
     "output_type": "stream",
     "text": [
      "Test data columns: Index(['id', 'X_Minimum', 'X_Maximum', 'Y_Minimum', 'Y_Maximum',\n",
      "       'Pixels_Areas', 'X_Perimeter', 'Y_Perimeter', 'Sum_of_Luminosity',\n",
      "       'Minimum_of_Luminosity', 'Maximum_of_Luminosity', 'Length_of_Conveyer',\n",
      "       'TypeOfSteel_A300', 'TypeOfSteel_A400', 'Steel_Plate_Thickness',\n",
      "       'Edges_Index', 'Empty_Index', 'Square_Index', 'Outside_X_Index',\n",
      "       'Edges_X_Index', 'Edges_Y_Index', 'Outside_Global_Index', 'LogOfAreas',\n",
      "       'Log_X_Index', 'Log_Y_Index', 'Orientation_Index', 'Luminosity_Index',\n",
      "       'SigmoidOfAreas'],\n",
      "      dtype='object')\n",
      "Test data shape: (12814, 28)\n"
     ]
    }
   ],
   "source": [
    "print(\"Test data columns:\", test_df.columns)\n",
    "print(\"Test data shape:\", test_df.shape)\n"
   ]
  },
  {
   "cell_type": "code",
   "execution_count": 14,
   "id": "3c91f0ca",
   "metadata": {},
   "outputs": [
    {
     "name": "stdout",
     "output_type": "stream",
     "text": [
      "Sample submission shape: (12814, 8)\n"
     ]
    }
   ],
   "source": [
    "sample_submission = pd.read_csv(\"C:\\\\Users\\\\DELL\\\\Downloads\\\\kleit-ml-course-project-2025\\\\sample_submission.csv\")\n",
    "print(\"Sample submission shape:\", sample_submission.shape)\n"
   ]
  },
  {
   "cell_type": "code",
   "execution_count": 15,
   "id": "0d2a6fab",
   "metadata": {},
   "outputs": [],
   "source": [
    "label_columns = ['Pastry', 'Z_Scratch', 'K_Scatch', 'Stains', 'Dirtiness', 'Bumps', 'Other_Faults']\n"
   ]
  },
  {
   "cell_type": "code",
   "execution_count": 16,
   "id": "9864174b",
   "metadata": {},
   "outputs": [
    {
     "name": "stdout",
     "output_type": "stream",
     "text": [
      "Feature matrix shape: (12814, 28)\n"
     ]
    }
   ],
   "source": [
    "X_test = test_df.drop(columns=[col for col in label_columns if col in test_df.columns])\n",
    "print(\"Feature matrix shape:\", X_test.shape)\n"
   ]
  },
  {
   "cell_type": "code",
   "execution_count": 17,
   "id": "43f8040e",
   "metadata": {},
   "outputs": [],
   "source": [
    "probabilities = pd.DataFrame(index=X_test.index)\n",
    "\n"
   ]
  },
  {
   "cell_type": "code",
   "execution_count": 18,
   "id": "2a97cede",
   "metadata": {},
   "outputs": [
    {
     "name": "stdout",
     "output_type": "stream",
     "text": [
      "Probabilities shape: (12814, 7)\n"
     ]
    }
   ],
   "source": [
    "if isinstance(model, MultiOutputClassifier):\n",
    "    estimators = model.estimators_\n",
    "    for i, col in enumerate(label_columns):\n",
    "        probabilities[col] = estimators[i].predict_proba(X_test)[:, 1]\n",
    "else:\n",
    "    y_pred_prob = model.predict_proba(X_test)\n",
    "    for i, col in enumerate(label_columns):\n",
    "        probabilities[col] = y_pred_prob[i][:, 1]\n",
    "\n",
    "print(\"Probabilities shape:\", probabilities.shape)\n"
   ]
  },
  {
   "cell_type": "code",
   "execution_count": 20,
   "id": "c889aaf4",
   "metadata": {},
   "outputs": [],
   "source": [
    "if len(probabilities) != len(sample_submission):\n",
    "    print(f\"WARNING: Number of predictions ({len(probabilities)}) doesn't match sample submission ({len(sample_submission)})\")\n",
    "\n",
    "    id_col = None\n",
    "    for col in sample_submission.columns:\n",
    "        if col not in label_columns:\n",
    "            id_col = col\n",
    "            break\n",
    "    \n",
    "    if id_col and id_col in test_df.columns:\n",
    "        print(f\"Using {id_col} to align predictions with sample submission format\")\n",
    "        \n",
    "        aligned_probabilities = pd.DataFrame(index=sample_submission.index)\n",
    "        \n",
    "       \n",
    "        for col in label_columns:\n",
    "            \n",
    "            prob_map = dict(zip(test_df[id_col], probabilities[col]))\n",
    "            aligned_probabilities[col] = sample_submission[id_col].map(prob_map)\n",
    "        \n",
    "        probabilities = aligned_probabilities\n"
   ]
  },
  {
   "cell_type": "code",
   "execution_count": 21,
   "id": "e310c051",
   "metadata": {},
   "outputs": [],
   "source": [
    "# Step 9: Ensure the order of columns in the submission matches the sample file\n",
    "submission = sample_submission.copy()\n",
    "for col in label_columns:\n",
    "    if col in submission.columns:\n",
    "        submission[col] = probabilities[col].values\n"
   ]
  },
  {
   "cell_type": "code",
   "execution_count": 22,
   "id": "0c1dac5a",
   "metadata": {},
   "outputs": [
    {
     "name": "stdout",
     "output_type": "stream",
     "text": [
      "Final submission shape: (12814, 8)\n",
      "Submission columns: Index(['id', 'Pastry', 'Z_Scratch', 'K_Scatch', 'Stains', 'Dirtiness', 'Bumps',\n",
      "       'Other_Faults'],\n",
      "      dtype='object')\n"
     ]
    }
   ],
   "source": [
    "\n",
    "# Step 10: Verify the submission format\n",
    "print(\"Final submission shape:\", submission.shape)\n",
    "print(\"Submission columns:\", submission.columns)\n"
   ]
  },
  {
   "cell_type": "code",
   "execution_count": 23,
   "id": "099f7590",
   "metadata": {},
   "outputs": [
    {
     "name": "stdout",
     "output_type": "stream",
     "text": [
      "Submission file 'submission.csv' created successfully!\n"
     ]
    }
   ],
   "source": [
    "submission.to_csv('submission.csv', index=False)\n",
    "print(\"Submission file 'submission.csv' created successfully!\")"
   ]
  }
 ],
 "metadata": {
  "kernelspec": {
   "display_name": "base",
   "language": "python",
   "name": "python3"
  },
  "language_info": {
   "codemirror_mode": {
    "name": "ipython",
    "version": 3
   },
   "file_extension": ".py",
   "mimetype": "text/x-python",
   "name": "python",
   "nbconvert_exporter": "python",
   "pygments_lexer": "ipython3",
   "version": "3.10.9"
  }
 },
 "nbformat": 4,
 "nbformat_minor": 5
}
